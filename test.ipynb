{
 "cells": [
  {
   "cell_type": "code",
   "execution_count": 1,
   "metadata": {},
   "outputs": [
    {
     "name": "stdout",
     "output_type": "stream",
     "text": [
      "Requirement already satisfied: torch in /opt/homebrew/Caskroom/miniconda/base/envs/xlstm/lib/python3.12/site-packages (2.3.0)\n",
      "Requirement already satisfied: numpy in /opt/homebrew/Caskroom/miniconda/base/envs/xlstm/lib/python3.12/site-packages (1.26.4)\n",
      "Requirement already satisfied: pandas in /opt/homebrew/Caskroom/miniconda/base/envs/xlstm/lib/python3.12/site-packages (2.2.2)\n",
      "Requirement already satisfied: scikit-learn in /opt/homebrew/Caskroom/miniconda/base/envs/xlstm/lib/python3.12/site-packages (1.4.2)\n",
      "Requirement already satisfied: filelock in /opt/homebrew/Caskroom/miniconda/base/envs/xlstm/lib/python3.12/site-packages (from torch) (3.14.0)\n",
      "Requirement already satisfied: typing-extensions>=4.8.0 in /opt/homebrew/Caskroom/miniconda/base/envs/xlstm/lib/python3.12/site-packages (from torch) (4.11.0)\n",
      "Requirement already satisfied: sympy in /opt/homebrew/Caskroom/miniconda/base/envs/xlstm/lib/python3.12/site-packages (from torch) (1.12)\n",
      "Requirement already satisfied: networkx in /opt/homebrew/Caskroom/miniconda/base/envs/xlstm/lib/python3.12/site-packages (from torch) (3.3)\n",
      "Requirement already satisfied: jinja2 in /opt/homebrew/Caskroom/miniconda/base/envs/xlstm/lib/python3.12/site-packages (from torch) (3.1.4)\n",
      "Requirement already satisfied: fsspec in /opt/homebrew/Caskroom/miniconda/base/envs/xlstm/lib/python3.12/site-packages (from torch) (2024.3.1)\n",
      "Requirement already satisfied: python-dateutil>=2.8.2 in /opt/homebrew/Caskroom/miniconda/base/envs/xlstm/lib/python3.12/site-packages (from pandas) (2.9.0)\n",
      "Requirement already satisfied: pytz>=2020.1 in /opt/homebrew/Caskroom/miniconda/base/envs/xlstm/lib/python3.12/site-packages (from pandas) (2024.1)\n",
      "Requirement already satisfied: tzdata>=2022.7 in /opt/homebrew/Caskroom/miniconda/base/envs/xlstm/lib/python3.12/site-packages (from pandas) (2024.1)\n",
      "Requirement already satisfied: scipy>=1.6.0 in /opt/homebrew/Caskroom/miniconda/base/envs/xlstm/lib/python3.12/site-packages (from scikit-learn) (1.13.0)\n",
      "Requirement already satisfied: joblib>=1.2.0 in /opt/homebrew/Caskroom/miniconda/base/envs/xlstm/lib/python3.12/site-packages (from scikit-learn) (1.4.2)\n",
      "Requirement already satisfied: threadpoolctl>=2.0.0 in /opt/homebrew/Caskroom/miniconda/base/envs/xlstm/lib/python3.12/site-packages (from scikit-learn) (3.5.0)\n",
      "Requirement already satisfied: six>=1.5 in /opt/homebrew/Caskroom/miniconda/base/envs/xlstm/lib/python3.12/site-packages (from python-dateutil>=2.8.2->pandas) (1.16.0)\n",
      "Requirement already satisfied: MarkupSafe>=2.0 in /opt/homebrew/Caskroom/miniconda/base/envs/xlstm/lib/python3.12/site-packages (from jinja2->torch) (2.1.5)\n",
      "Requirement already satisfied: mpmath>=0.19 in /opt/homebrew/Caskroom/miniconda/base/envs/xlstm/lib/python3.12/site-packages (from sympy->torch) (1.3.0)\n",
      "Note: you may need to restart the kernel to use updated packages.\n"
     ]
    }
   ],
   "source": [
    "%pip install torch numpy pandas scikit-learn"
   ]
  },
  {
   "cell_type": "code",
   "execution_count": 1,
   "metadata": {},
   "outputs": [
    {
     "name": "stdout",
     "output_type": "stream",
     "text": [
      "sLSTMBlock output shape: torch.Size([8, 16])\n",
      "mLSTMBlock output shape: torch.Size([8, 16])\n",
      "xLSTM output shape at time step 0: torch.Size([8, 16])\n",
      "xLSTM output shape at time step 1: torch.Size([8, 16])\n",
      "xLSTM output shape at time step 2: torch.Size([8, 16])\n",
      "xLSTM output shape at time step 3: torch.Size([8, 16])\n",
      "xLSTM output shape at time step 4: torch.Size([8, 16])\n",
      "xLSTM output shape at time step 5: torch.Size([8, 16])\n",
      "xLSTM output shape at time step 6: torch.Size([8, 16])\n",
      "xLSTM output shape at time step 7: torch.Size([8, 16])\n",
      "xLSTM output shape at time step 8: torch.Size([8, 16])\n",
      "xLSTM output shape at time step 9: torch.Size([8, 16])\n"
     ]
    }
   ],
   "source": [
    "import torch\n",
    "from xlstm import sLSTMBlock, mLSTMBlock, xLSTM\n",
    "\n",
    "\n",
    "batch_size = 8\n",
    "input_size = 16\n",
    "hidden_size = 64\n",
    "num_heads = 4\n",
    "seq_len = 10\n",
    "\n",
    "# Initialize sLSTMBlock and mLSTMBlock\n",
    "sLSTM_block = sLSTMBlock(input_size, hidden_size, num_heads)\n",
    "mLSTM_block = mLSTMBlock(input_size, hidden_size, num_heads)\n",
    "\n",
    "# Generate random data for sLSTM and mLSTM\n",
    "input_data_sLSTM_mLSTM = torch.randn(batch_size, input_size)\n",
    "\n",
    "# Initialize hidden states for sLSTM and mLSTM\n",
    "h_prev = torch.zeros(batch_size, hidden_size)\n",
    "c_prev = torch.zeros(batch_size, hidden_size)\n",
    "n_prev = torch.ones(batch_size, hidden_size)\n",
    "m_prev = torch.zeros(batch_size, hidden_size)\n",
    "\n",
    "# Test sLSTMBlock with random data\n",
    "output_sLSTM, h_sLSTM, c_sLSTM, n_sLSTM, m_sLSTM = sLSTM_block(input_data_sLSTM_mLSTM, h_prev, c_prev, n_prev, m_prev)\n",
    "print(\"sLSTMBlock output shape:\", output_sLSTM.shape)\n",
    "\n",
    "# Test mLSTMBlock with random data\n",
    "output_mLSTM, h_mLSTM, c_mLSTM, n_mLSTM, m_mLSTM = mLSTM_block(input_data_sLSTM_mLSTM, h_prev, c_prev, n_prev, m_prev)\n",
    "print(\"mLSTMBlock output shape:\", output_mLSTM.shape)\n",
    "\n",
    "# Initialize xLSTM\n",
    "layer_order = ['s', 'm']\n",
    "xLSTM_model = xLSTM(input_size, hidden_size, num_heads, layer_order)\n",
    "\n",
    "# Generate random data for xLSTM\n",
    "input_data_xLSTM = torch.randn(seq_len, batch_size, input_size)\n",
    "\n",
    "# Initialize hidden states for xLSTM\n",
    "h_prev_xLSTM = torch.zeros(batch_size, hidden_size)\n",
    "c_prev_xLSTM = torch.zeros(batch_size, hidden_size)\n",
    "n_prev_xLSTM = torch.ones(batch_size, hidden_size)\n",
    "m_prev_xLSTM = torch.zeros(batch_size, hidden_size)\n",
    "\n",
    "# Test xLSTM with random data\n",
    "for t in range(seq_len):\n",
    "    input_t = input_data_xLSTM[t]\n",
    "    output_xLSTM, h_prev_xLSTM, c_prev_xLSTM, n_prev_xLSTM, m_prev_xLSTM = xLSTM_model(input_t, h_prev_xLSTM, c_prev_xLSTM, n_prev_xLSTM, m_prev_xLSTM)\n",
    "    print(f\"xLSTM output shape at time step {t}:\", output_xLSTM.shape)\n"
   ]
  }
 ],
 "metadata": {
  "kernelspec": {
   "display_name": "xlstm",
   "language": "python",
   "name": "python3"
  },
  "language_info": {
   "codemirror_mode": {
    "name": "ipython",
    "version": 3
   },
   "file_extension": ".py",
   "mimetype": "text/x-python",
   "name": "python",
   "nbconvert_exporter": "python",
   "pygments_lexer": "ipython3",
   "version": "3.12.3"
  }
 },
 "nbformat": 4,
 "nbformat_minor": 2
}
